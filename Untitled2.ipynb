{
 "cells": [
  {
   "cell_type": "code",
   "execution_count": 1,
   "id": "084e35b3",
   "metadata": {},
   "outputs": [
    {
     "name": "stdout",
     "output_type": "stream",
     "text": [
      "original NP1[1 2 3 4 5 6 7]\n",
      "original NP2[1 2 3 4 5 6 7]\n",
      "changed NP1[41  2  3  4  5  6  7]\n",
      "original NP2[41  2  3  4  5  6  7]\n"
     ]
    }
   ],
   "source": [
    "import numpy as np\n",
    "np1 = np.array([1,2,3,4,5,6,7])\n",
    "np2 = np1.view()\n",
    "print(f'original NP1{np1}')\n",
    "print(f'original NP2{np2}')\n",
    "np1[0] = 41\n",
    "print(f'changed NP1{np1}')\n",
    "print(f'original NP2{np2}')"
   ]
  },
  {
   "cell_type": "code",
   "execution_count": null,
   "id": "820e4c53",
   "metadata": {},
   "outputs": [],
   "source": []
  }
 ],
 "metadata": {
  "kernelspec": {
   "display_name": "Python 3 (ipykernel)",
   "language": "python",
   "name": "python3"
  },
  "language_info": {
   "codemirror_mode": {
    "name": "ipython",
    "version": 3
   },
   "file_extension": ".py",
   "mimetype": "text/x-python",
   "name": "python",
   "nbconvert_exporter": "python",
   "pygments_lexer": "ipython3",
   "version": "3.11.0"
  }
 },
 "nbformat": 4,
 "nbformat_minor": 5
}
